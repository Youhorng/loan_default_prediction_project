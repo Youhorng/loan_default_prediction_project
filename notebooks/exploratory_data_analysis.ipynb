{
 "cells": [
  {
   "cell_type": "markdown",
   "metadata": {
    "vscode": {
     "languageId": "plaintext"
    }
   },
   "source": [
    "### **Loan Default Prediction**\n",
    "\n",
    "---"
   ]
  },
  {
   "cell_type": "markdown",
   "metadata": {},
   "source": [
    "#### **Introduction**\n",
    "\n",
    "In the financial sector, particularly in lending institutions, assessing the creditworthiness of loan applications is a critical process that directly impacts the profitability and stability of banks. Home equity loans, which allow homeowners to borrow against the equity in their property, carry inherent risks due to the possibility of borrower default. This is the reason why lenders must carefully evaluate the likelihood that the borrower will repay it back or not before approving a loan as this evaluation is crucial because if too many borrowers fail to repay their loans, it can lead to significant financial lossess for the lender. \n",
    "\n",
    "The Home Equity dataset (HMEQ) contains detailed information about recent home equity loan applications. It includes data such as the loan amount requested, the applicant's employment history, credit background, and whether they eventually defaulted on the loan or not.\n",
    "\n",
    "This projects aim to use this dataset to build tools that help banks make smarter lending decisions. By combining data analysis and machine learning techniques with human expertise, we can improve the accuracy of credit assessments and reduce the number of loans that are not repaid.\n",
    "\n",
    "---\n",
    "\n",
    "#### **Problem Identification**\n",
    "\n",
    "One of the biggest challenges in lending is identifying which applicants are likely to repay their loans and which may default. If this is not done correctly, banks can suffer large financial losses due to non-performing loans (NPL), which are loans that are not being paid back as agreed. Currently, banks still rely on manual review by loan officers to decide who gets approved. While experienced reviewers are valuable, this method has some key limitations such as:\n",
    "\n",
    "- It can be slow and difficult to scale.\n",
    "\n",
    "- Decisions may vary between different reviewers.\n",
    "\n",
    "- Human judgement can sometimes be influenced by unconscious biases. \n",
    "\n",
    "- Important patterns in the data may be missed due to complexity or volumes of applications. \n",
    "\n",
    "\n",
    "These issues can result in poor lending decisions, either approving risky applications or rejecting reliable ones.\n",
    "\n",
    "---\n",
    "\n",
    "#### **Project Objectives**\n",
    "\n",
    "Our main objective is to develop an effective and reliable system that helps banks assess the risk of loan defaults among home equity loan applicants using data-driven methods. These are the objectives and goals that we aim to do:\n",
    "\n",
    "1. To make analysis on the Home equity loan dataset and identify the most important factors that influence whether a borrower will repay or default.\n",
    "\n",
    "2. To build and test classification machine learning models to predict clients who are likely to default on their loans.\n",
    "\n",
    "3. To clean and prepare the dataset for modeling to ensure accurate results.\n",
    "\n",
    "4. To avoid the risk of misclassification of default loans predicted as non-default as this results in high losses. \n",
    "\n",
    "---\n",
    "\n",
    "#### **Dataset Description**\n",
    "\n",
    "The Home Equity Loans (HMEQ) dataset contains detailed information on 5,960 recent home equity loan applications . It was collected to help lenders understand and predict which applicants are more likely to default (fail to repay) or repay their loans successfully. This dataset includes both demographic and financial details about each applicant, making it suitable for use in credit risk modeling, loan approval decisions, and predictive analytics.\n",
    "\n",
    "- **Total Records**: 5,960 recent home equity loan applications.\n",
    "\n",
    "- **Default Rate**: Approximately 20% (1189 out of 5960 applicants defaulted).\n",
    "\n",
    "- **Type of Variability**: Loan Financial Varaibles,  Purpose and Employment Variables, and Credit History Variables. In total, there are 12 features and 1 target variable.\n",
    "\n",
    "- **Target Variable**: `Bad` indicates whether the borrower defaulter (1) or repaid (0). \n",
    "\n",
    "<br>\n",
    "\n",
    "| Variable  | Description                                                                 |\n",
    "|-----------|-----------------------------------------------------------------------------|\n",
    "| BAD       | 1 = Client defaulted ; 0 = Loan repaid on time                                     |\n",
    "| LOAN      | Amount of the laon approved for the home equity loan                                             |\n",
    "| MORTDUE   | Amount still due on the existing mortgage                                  |\n",
    "| VALUE     | Current market value of the property                                       |\n",
    "| REASON    | Purpose of the loan: HomeImp = home improvement, DebtCon = debt consolidation |\n",
    "| JOB       | Type of job held by applicant                                              |\n",
    "| YOJ       | Number of years at current job                                                       |\n",
    "| DEROG     | Number of major derogatory reports (late payments, collections, charge-offs), indicates past credit problems          |\n",
    "| DELINQ    | Number of delinquent credit lines (a credit line become delinquent when minimum payments are missed for 30-60+ days)                                    |\n",
    "| CLAGE     | Age of oldest credit line in months (a credit line is a reusable loan that lets you borrow money up to certain limit)                                    |\n",
    "| NINQ      | Number of recent credit inquiries (Each time a lender pulls credit report)                                       |\n",
    "| CLNO      | Total number of credit lines currently open (how many accounts the borrower is managing)                               |\n",
    "| DEBTINC   | Debt-to-income ratio (%), measure the borrower's ability to manage monthly payments         |"
   ]
  },
  {
   "cell_type": "markdown",
   "metadata": {},
   "source": [
    "#### **Setup and Import necessary libraries**"
   ]
  },
  {
   "cell_type": "code",
   "execution_count": 1,
   "metadata": {},
   "outputs": [],
   "source": [
    "# Data manipulation and visualization \n",
    "import pandas as pd\n",
    "import numpy as np\n",
    "import scipy.stats as stats\n",
    "import matplotlib.pyplot as plt\n",
    "import seaborn as sns\n",
    "import plotly.express as px\n",
    "import plotly.graph_objects as go  \n",
    "import shap \n",
    "\n",
    "# Data preprocessing \n",
    "from sklearn.preprocessing import StandardScaler, MinMaxScaler\n",
    "from sklearn.model_selection import train_test_split\n",
    "from sklearn.pipeline import Pipeline\n",
    "from sklearn.compose import ColumnTransformer\n",
    "from sklearn.impute import SimpleImputer\n",
    "\n",
    "# Imbalanced data handling\n",
    "from imblearn.over_sampling import SMOTE\n",
    "from imblearn.under_sampling import RandomUnderSampler\n",
    "\n",
    "# Machine learning models\n",
    "from sklearn.linear_model import LogisticRegression\n",
    "from sklearn.tree import DecisionTreeClassifier\n",
    "from sklearn.ensemble import RandomForestClassifier, BaggingClassifier, GradientBoostingClassifier\n",
    "from xgboost import XGBClassifier\n",
    "\n",
    "# Cross-validation and evaluation\n",
    "from sklearn.model_selection import cross_val_score, GridSearchCV\n",
    "from sklearn.metrics import classification_report, confusion_matrix, ConfusionMatrixDisplay\n",
    "from sklearn.metrics import accuracy_score, recall_score, precision_score, f1_score, roc_auc_score\n",
    "\n",
    "# Model saving\n",
    "import pickle\n",
    "import joblib\n"
   ]
  },
  {
   "cell_type": "markdown",
   "metadata": {},
   "source": [
    "#### **Data understanding**"
   ]
  },
  {
   "cell_type": "code",
   "execution_count": 9,
   "metadata": {},
   "outputs": [
    {
     "data": {
      "application/vnd.microsoft.datawrangler.viewer.v0+json": {
       "columns": [
        {
         "name": "index",
         "rawType": "int64",
         "type": "integer"
        },
        {
         "name": "BAD",
         "rawType": "int64",
         "type": "integer"
        },
        {
         "name": "LOAN",
         "rawType": "int64",
         "type": "integer"
        },
        {
         "name": "MORTDUE",
         "rawType": "float64",
         "type": "float"
        },
        {
         "name": "VALUE",
         "rawType": "float64",
         "type": "float"
        },
        {
         "name": "REASON",
         "rawType": "object",
         "type": "unknown"
        },
        {
         "name": "JOB",
         "rawType": "object",
         "type": "unknown"
        },
        {
         "name": "YOJ",
         "rawType": "float64",
         "type": "float"
        },
        {
         "name": "DEROG",
         "rawType": "float64",
         "type": "float"
        },
        {
         "name": "DELINQ",
         "rawType": "float64",
         "type": "float"
        },
        {
         "name": "CLAGE",
         "rawType": "float64",
         "type": "float"
        },
        {
         "name": "NINQ",
         "rawType": "float64",
         "type": "float"
        },
        {
         "name": "CLNO",
         "rawType": "float64",
         "type": "float"
        },
        {
         "name": "DEBTINC",
         "rawType": "float64",
         "type": "float"
        }
       ],
       "conversionMethod": "pd.DataFrame",
       "ref": "5e3047ca-c589-4b35-bdc4-cdf622e6d037",
       "rows": [
        [
         "0",
         "1",
         "1100",
         "25860.0",
         "39025.0",
         "HomeImp",
         "Other",
         "10.5",
         "0.0",
         "0.0",
         "94.366666667",
         "1.0",
         "9.0",
         null
        ],
        [
         "1",
         "1",
         "1300",
         "70053.0",
         "68400.0",
         "HomeImp",
         "Other",
         "7.0",
         "0.0",
         "2.0",
         "121.83333333",
         "0.0",
         "14.0",
         null
        ],
        [
         "2",
         "1",
         "1500",
         "13500.0",
         "16700.0",
         "HomeImp",
         "Other",
         "4.0",
         "0.0",
         "0.0",
         "149.46666667",
         "1.0",
         "10.0",
         null
        ],
        [
         "3",
         "1",
         "1500",
         null,
         null,
         null,
         null,
         null,
         null,
         null,
         null,
         null,
         null,
         null
        ],
        [
         "4",
         "0",
         "1700",
         "97800.0",
         "112000.0",
         "HomeImp",
         "Office",
         "3.0",
         "0.0",
         "0.0",
         "93.333333333",
         "0.0",
         "14.0",
         null
        ]
       ],
       "shape": {
        "columns": 13,
        "rows": 5
       }
      },
      "text/html": [
       "<div>\n",
       "<style scoped>\n",
       "    .dataframe tbody tr th:only-of-type {\n",
       "        vertical-align: middle;\n",
       "    }\n",
       "\n",
       "    .dataframe tbody tr th {\n",
       "        vertical-align: top;\n",
       "    }\n",
       "\n",
       "    .dataframe thead th {\n",
       "        text-align: right;\n",
       "    }\n",
       "</style>\n",
       "<table border=\"1\" class=\"dataframe\">\n",
       "  <thead>\n",
       "    <tr style=\"text-align: right;\">\n",
       "      <th></th>\n",
       "      <th>BAD</th>\n",
       "      <th>LOAN</th>\n",
       "      <th>MORTDUE</th>\n",
       "      <th>VALUE</th>\n",
       "      <th>REASON</th>\n",
       "      <th>JOB</th>\n",
       "      <th>YOJ</th>\n",
       "      <th>DEROG</th>\n",
       "      <th>DELINQ</th>\n",
       "      <th>CLAGE</th>\n",
       "      <th>NINQ</th>\n",
       "      <th>CLNO</th>\n",
       "      <th>DEBTINC</th>\n",
       "    </tr>\n",
       "  </thead>\n",
       "  <tbody>\n",
       "    <tr>\n",
       "      <th>0</th>\n",
       "      <td>1</td>\n",
       "      <td>1100</td>\n",
       "      <td>25860.0</td>\n",
       "      <td>39025.0</td>\n",
       "      <td>HomeImp</td>\n",
       "      <td>Other</td>\n",
       "      <td>10.5</td>\n",
       "      <td>0.0</td>\n",
       "      <td>0.0</td>\n",
       "      <td>94.366667</td>\n",
       "      <td>1.0</td>\n",
       "      <td>9.0</td>\n",
       "      <td>NaN</td>\n",
       "    </tr>\n",
       "    <tr>\n",
       "      <th>1</th>\n",
       "      <td>1</td>\n",
       "      <td>1300</td>\n",
       "      <td>70053.0</td>\n",
       "      <td>68400.0</td>\n",
       "      <td>HomeImp</td>\n",
       "      <td>Other</td>\n",
       "      <td>7.0</td>\n",
       "      <td>0.0</td>\n",
       "      <td>2.0</td>\n",
       "      <td>121.833333</td>\n",
       "      <td>0.0</td>\n",
       "      <td>14.0</td>\n",
       "      <td>NaN</td>\n",
       "    </tr>\n",
       "    <tr>\n",
       "      <th>2</th>\n",
       "      <td>1</td>\n",
       "      <td>1500</td>\n",
       "      <td>13500.0</td>\n",
       "      <td>16700.0</td>\n",
       "      <td>HomeImp</td>\n",
       "      <td>Other</td>\n",
       "      <td>4.0</td>\n",
       "      <td>0.0</td>\n",
       "      <td>0.0</td>\n",
       "      <td>149.466667</td>\n",
       "      <td>1.0</td>\n",
       "      <td>10.0</td>\n",
       "      <td>NaN</td>\n",
       "    </tr>\n",
       "    <tr>\n",
       "      <th>3</th>\n",
       "      <td>1</td>\n",
       "      <td>1500</td>\n",
       "      <td>NaN</td>\n",
       "      <td>NaN</td>\n",
       "      <td>NaN</td>\n",
       "      <td>NaN</td>\n",
       "      <td>NaN</td>\n",
       "      <td>NaN</td>\n",
       "      <td>NaN</td>\n",
       "      <td>NaN</td>\n",
       "      <td>NaN</td>\n",
       "      <td>NaN</td>\n",
       "      <td>NaN</td>\n",
       "    </tr>\n",
       "    <tr>\n",
       "      <th>4</th>\n",
       "      <td>0</td>\n",
       "      <td>1700</td>\n",
       "      <td>97800.0</td>\n",
       "      <td>112000.0</td>\n",
       "      <td>HomeImp</td>\n",
       "      <td>Office</td>\n",
       "      <td>3.0</td>\n",
       "      <td>0.0</td>\n",
       "      <td>0.0</td>\n",
       "      <td>93.333333</td>\n",
       "      <td>0.0</td>\n",
       "      <td>14.0</td>\n",
       "      <td>NaN</td>\n",
       "    </tr>\n",
       "  </tbody>\n",
       "</table>\n",
       "</div>"
      ],
      "text/plain": [
       "   BAD  LOAN  MORTDUE     VALUE  ...       CLAGE NINQ  CLNO  DEBTINC\n",
       "0    1  1100  25860.0   39025.0  ...   94.366667  1.0   9.0      NaN\n",
       "1    1  1300  70053.0   68400.0  ...  121.833333  0.0  14.0      NaN\n",
       "2    1  1500  13500.0   16700.0  ...  149.466667  1.0  10.0      NaN\n",
       "3    1  1500      NaN       NaN  ...         NaN  NaN   NaN      NaN\n",
       "4    0  1700  97800.0  112000.0  ...   93.333333  0.0  14.0      NaN\n",
       "\n",
       "[5 rows x 13 columns]"
      ]
     },
     "execution_count": 9,
     "metadata": {},
     "output_type": "execute_result"
    }
   ],
   "source": [
    "# Read the dataset \n",
    "path = \"../data/raw/home_equity_loan_applications.csv\"\n",
    "df = pd.read_csv(path)\n",
    "df.head()"
   ]
  },
  {
   "cell_type": "code",
   "execution_count": 12,
   "metadata": {},
   "outputs": [
    {
     "name": "stdout",
     "output_type": "stream",
     "text": [
      "Shape of the dataset:  (5960, 13)\n",
      "<class 'pandas.core.frame.DataFrame'>\n",
      "RangeIndex: 5960 entries, 0 to 5959\n",
      "Data columns (total 13 columns):\n",
      " #   Column   Non-Null Count  Dtype  \n",
      "---  ------   --------------  -----  \n",
      " 0   BAD      5960 non-null   int64  \n",
      " 1   LOAN     5960 non-null   int64  \n",
      " 2   MORTDUE  5442 non-null   float64\n",
      " 3   VALUE    5848 non-null   float64\n",
      " 4   REASON   5708 non-null   object \n",
      " 5   JOB      5681 non-null   object \n",
      " 6   YOJ      5445 non-null   float64\n",
      " 7   DEROG    5252 non-null   float64\n",
      " 8   DELINQ   5380 non-null   float64\n",
      " 9   CLAGE    5652 non-null   float64\n",
      " 10  NINQ     5450 non-null   float64\n",
      " 11  CLNO     5738 non-null   float64\n",
      " 12  DEBTINC  4693 non-null   float64\n",
      "dtypes: float64(9), int64(2), object(2)\n",
      "memory usage: 605.4+ KB\n"
     ]
    }
   ],
   "source": [
    "# Check the basic information about the data\n",
    "print(f\"Shape of the dataset: \", df.shape)\n",
    "df.info()"
   ]
  },
  {
   "cell_type": "code",
   "execution_count": 23,
   "metadata": {},
   "outputs": [
    {
     "name": "stdout",
     "output_type": "stream",
     "text": [
      "Percentage of missing values in each column:\n",
      "BAD          0.0 %\n",
      "LOAN         0.0 %\n",
      "MORTDUE     8.69 %\n",
      "VALUE       1.88 %\n",
      "REASON      4.23 %\n",
      "JOB         4.68 %\n",
      "YOJ         8.64 %\n",
      "DEROG      11.88 %\n",
      "DELINQ      9.73 %\n",
      "CLAGE       5.17 %\n",
      "NINQ        8.56 %\n",
      "CLNO        3.72 %\n",
      "DEBTINC    21.26 %\n",
      "dtype: object\n",
      "\n",
      "Number of duplicated rows:  0\n"
     ]
    }
   ],
   "source": [
    "# Check for missing values and duplicated rows\n",
    "missing_values = np.round(df.isnull().sum() / len(df) * 100, 2)\n",
    "print(\"Percentage of missing values in each column:\")\n",
    "print(missing_values.astype(str) + \" %\")\n",
    "print()\n",
    "\n",
    "duplicated_rows = df.duplicated().sum()\n",
    "print(\"Number of duplicated rows: \", duplicated_rows)"
   ]
  },
  {
   "cell_type": "markdown",
   "metadata": {},
   "source": [
    "**Findings**: Based on the information from the dataset, there are 13 columns within the table with 1 target variable and 12 features, having a total number of rows of 5960. Here is the characteristic of the dataset: \n",
    "\n",
    "- The dataset contains floating, integer, and object data type. \n",
    "\n",
    "- There are 11 columns that have missing values. The column with the highest missing values is `DEBTINC` accounted for 21.26% of the total data points, followed by `DEROG` that accounted for 11.88%, which means we need to do imputation. \n",
    "\n",
    "- There are no duplicated rows within the dataset, so there is no need to drop duplication.\n",
    "\n",
    "- The dataset column names are hard to understand, so we might need to rename them accordingly."
   ]
  },
  {
   "cell_type": "code",
   "execution_count": 33,
   "metadata": {},
   "outputs": [
    {
     "name": "stdout",
     "output_type": "stream",
     "text": [
      "Numerical features:  ['BAD', 'LOAN', 'MORTDUE', 'VALUE', 'YOJ', 'DEROG', 'DELINQ', 'CLAGE', 'NINQ', 'CLNO', 'DEBTINC']\n",
      "Categorical features:  ['REASON', 'JOB', 'BAD']\n"
     ]
    }
   ],
   "source": [
    "# Get the categorical and numerical features \n",
    "numerical_features = df.select_dtypes(include=['int64', 'float64']).columns.tolist()\n",
    "print(\"Numerical features: \", numerical_features)\n",
    "categorical_features = df.select_dtypes(include=['object']).columns.tolist()\n",
    "categorical_features.append(\"BAD\")\n",
    "print(\"Categorical features: \", categorical_features)"
   ]
  },
  {
   "cell_type": "code",
   "execution_count": 34,
   "metadata": {},
   "outputs": [],
   "source": [
    "# Change the target variable and object to categorical\n",
    "for col in categorical_features:\n",
    "    df[col] = df[col].astype('category')"
   ]
  },
  {
   "cell_type": "code",
   "execution_count": 36,
   "metadata": {},
   "outputs": [
    {
     "data": {
      "application/vnd.microsoft.datawrangler.viewer.v0+json": {
       "columns": [
        {
         "name": "index",
         "rawType": "object",
         "type": "string"
        },
        {
         "name": "BAD",
         "rawType": "int64",
         "type": "integer"
        },
        {
         "name": "REASON",
         "rawType": "object",
         "type": "unknown"
        },
        {
         "name": "JOB",
         "rawType": "object",
         "type": "unknown"
        }
       ],
       "conversionMethod": "pd.DataFrame",
       "ref": "80ff427f-264f-4915-88d4-7ee4d35e6933",
       "rows": [
        [
         "count",
         "5960",
         "5708",
         "5681"
        ],
        [
         "unique",
         "2",
         "2",
         "6"
        ],
        [
         "top",
         "0",
         "DebtCon",
         "Other"
        ],
        [
         "freq",
         "4771",
         "3928",
         "2388"
        ]
       ],
       "shape": {
        "columns": 3,
        "rows": 4
       }
      },
      "text/html": [
       "<div>\n",
       "<style scoped>\n",
       "    .dataframe tbody tr th:only-of-type {\n",
       "        vertical-align: middle;\n",
       "    }\n",
       "\n",
       "    .dataframe tbody tr th {\n",
       "        vertical-align: top;\n",
       "    }\n",
       "\n",
       "    .dataframe thead th {\n",
       "        text-align: right;\n",
       "    }\n",
       "</style>\n",
       "<table border=\"1\" class=\"dataframe\">\n",
       "  <thead>\n",
       "    <tr style=\"text-align: right;\">\n",
       "      <th></th>\n",
       "      <th>BAD</th>\n",
       "      <th>REASON</th>\n",
       "      <th>JOB</th>\n",
       "    </tr>\n",
       "  </thead>\n",
       "  <tbody>\n",
       "    <tr>\n",
       "      <th>count</th>\n",
       "      <td>5960</td>\n",
       "      <td>5708</td>\n",
       "      <td>5681</td>\n",
       "    </tr>\n",
       "    <tr>\n",
       "      <th>unique</th>\n",
       "      <td>2</td>\n",
       "      <td>2</td>\n",
       "      <td>6</td>\n",
       "    </tr>\n",
       "    <tr>\n",
       "      <th>top</th>\n",
       "      <td>0</td>\n",
       "      <td>DebtCon</td>\n",
       "      <td>Other</td>\n",
       "    </tr>\n",
       "    <tr>\n",
       "      <th>freq</th>\n",
       "      <td>4771</td>\n",
       "      <td>3928</td>\n",
       "      <td>2388</td>\n",
       "    </tr>\n",
       "  </tbody>\n",
       "</table>\n",
       "</div>"
      ],
      "text/plain": [
       "         BAD   REASON    JOB\n",
       "count   5960     5708   5681\n",
       "unique     2        2      6\n",
       "top        0  DebtCon  Other\n",
       "freq    4771     3928   2388"
      ]
     },
     "execution_count": 36,
     "metadata": {},
     "output_type": "execute_result"
    }
   ],
   "source": [
    "# Check summary statistics for object columns\n",
    "df.describe(include=\"category\")"
   ]
  },
  {
   "cell_type": "code",
   "execution_count": 41,
   "metadata": {},
   "outputs": [
    {
     "name": "stdout",
     "output_type": "stream",
     "text": [
      "REASON\n",
      "DebtCon    3928\n",
      "HomeImp    1780\n",
      "Name: count, dtype: int64\n",
      "\n",
      "JOB\n",
      "Other      2388\n",
      "ProfExe    1276\n",
      "Office      948\n",
      "Mgr         767\n",
      "Self        193\n",
      "Sales       109\n",
      "Name: count, dtype: int64\n",
      "\n",
      "BAD\n",
      "0    4771\n",
      "1    1189\n",
      "Name: count, dtype: int64\n",
      "\n"
     ]
    }
   ],
   "source": [
    "# Check the unique values in each categorical column\n",
    "for col in categorical_features:\n",
    "    print(df[col].value_counts())\n",
    "    print()"
   ]
  },
  {
   "cell_type": "markdown",
   "metadata": {},
   "source": [
    "**Findings**: There are three categorical columns in the dataset such as `REASON`, `JOB`, and `BAD`. \n",
    "\n",
    "- `BAD`: The target variable is imbalanced which is true in reality for loan application dataset. Only around 20% were defaulted loans. So, we need to apply the right data handling on imbalanced class so as to not create noise and bias.\n",
    "\n",
    "- `REASON`: There are two unique values within the reason column, and most of them is *DebtCon* (Loan to pay off other existing debts) which accounted about 65% and the rest is *HomeImp* (Loan for home improvement).\n",
    "\n",
    "- `JOB`: There are six unqiue values within the job column. Most of them is *Other* without specific title, followed by *ProfExe*, *Office*, *Mgr*, *Self*, *Sales*."
   ]
  },
  {
   "cell_type": "code",
   "execution_count": 31,
   "metadata": {},
   "outputs": [
    {
     "data": {
      "application/vnd.microsoft.datawrangler.viewer.v0+json": {
       "columns": [
        {
         "name": "index",
         "rawType": "object",
         "type": "string"
        },
        {
         "name": "BAD",
         "rawType": "float64",
         "type": "float"
        },
        {
         "name": "LOAN",
         "rawType": "float64",
         "type": "float"
        },
        {
         "name": "MORTDUE",
         "rawType": "float64",
         "type": "float"
        },
        {
         "name": "VALUE",
         "rawType": "float64",
         "type": "float"
        },
        {
         "name": "YOJ",
         "rawType": "float64",
         "type": "float"
        },
        {
         "name": "DEROG",
         "rawType": "float64",
         "type": "float"
        },
        {
         "name": "DELINQ",
         "rawType": "float64",
         "type": "float"
        },
        {
         "name": "CLAGE",
         "rawType": "float64",
         "type": "float"
        },
        {
         "name": "NINQ",
         "rawType": "float64",
         "type": "float"
        },
        {
         "name": "CLNO",
         "rawType": "float64",
         "type": "float"
        },
        {
         "name": "DEBTINC",
         "rawType": "float64",
         "type": "float"
        }
       ],
       "conversionMethod": "pd.DataFrame",
       "ref": "039e58ca-4a77-4f61-8222-2b1ff6bbf5b6",
       "rows": [
        [
         "count",
         "5960.0",
         "5960.0",
         "5442.0",
         "5848.0",
         "5445.0",
         "5252.0",
         "5380.0",
         "5652.0",
         "5450.0",
         "5738.0",
         "4693.0"
        ],
        [
         "mean",
         "0.199496644295302",
         "18607.96979865772",
         "73760.817199559",
         "101776.04874145007",
         "8.922268135904499",
         "0.2545696877380046",
         "0.4494423791821561",
         "179.76627518656605",
         "1.1860550458715597",
         "21.29609620076682",
         "33.779915348721126"
        ],
        [
         "std",
         "0.39965551745026423",
         "11207.480416694001",
         "44457.60945841592",
         "57385.7753337027",
         "7.573982248898836",
         "0.8460467770863016",
         "1.1272659176049586",
         "85.81009176356643",
         "1.7286749712080087",
         "10.13893319245861",
         "8.601746186328535"
        ],
        [
         "min",
         "0.0",
         "1100.0",
         "2063.0",
         "8000.0",
         "0.0",
         "0.0",
         "0.0",
         "0.0",
         "0.0",
         "0.0",
         "0.5244992154"
        ],
        [
         "25%",
         "0.0",
         "11100.0",
         "46276.0",
         "66075.5",
         "3.0",
         "0.0",
         "0.0",
         "115.11670223",
         "0.0",
         "15.0",
         "29.140031372"
        ],
        [
         "50%",
         "0.0",
         "16300.0",
         "65019.0",
         "89235.5",
         "7.0",
         "0.0",
         "0.0",
         "173.46666667",
         "1.0",
         "20.0",
         "34.818261819"
        ],
        [
         "75%",
         "0.0",
         "23300.0",
         "91488.0",
         "119824.25",
         "13.0",
         "0.0",
         "0.0",
         "231.56227814",
         "2.0",
         "26.0",
         "39.003140628"
        ],
        [
         "max",
         "1.0",
         "89900.0",
         "399550.0",
         "855909.0",
         "41.0",
         "10.0",
         "15.0",
         "1168.2335609",
         "17.0",
         "71.0",
         "203.31214869"
        ]
       ],
       "shape": {
        "columns": 11,
        "rows": 8
       }
      },
      "text/html": [
       "<div>\n",
       "<style scoped>\n",
       "    .dataframe tbody tr th:only-of-type {\n",
       "        vertical-align: middle;\n",
       "    }\n",
       "\n",
       "    .dataframe tbody tr th {\n",
       "        vertical-align: top;\n",
       "    }\n",
       "\n",
       "    .dataframe thead th {\n",
       "        text-align: right;\n",
       "    }\n",
       "</style>\n",
       "<table border=\"1\" class=\"dataframe\">\n",
       "  <thead>\n",
       "    <tr style=\"text-align: right;\">\n",
       "      <th></th>\n",
       "      <th>BAD</th>\n",
       "      <th>LOAN</th>\n",
       "      <th>MORTDUE</th>\n",
       "      <th>VALUE</th>\n",
       "      <th>YOJ</th>\n",
       "      <th>DEROG</th>\n",
       "      <th>DELINQ</th>\n",
       "      <th>CLAGE</th>\n",
       "      <th>NINQ</th>\n",
       "      <th>CLNO</th>\n",
       "      <th>DEBTINC</th>\n",
       "    </tr>\n",
       "  </thead>\n",
       "  <tbody>\n",
       "    <tr>\n",
       "      <th>count</th>\n",
       "      <td>5960.000000</td>\n",
       "      <td>5960.000000</td>\n",
       "      <td>5442.000000</td>\n",
       "      <td>5848.000000</td>\n",
       "      <td>5445.000000</td>\n",
       "      <td>5252.000000</td>\n",
       "      <td>5380.000000</td>\n",
       "      <td>5652.000000</td>\n",
       "      <td>5450.000000</td>\n",
       "      <td>5738.000000</td>\n",
       "      <td>4693.000000</td>\n",
       "    </tr>\n",
       "    <tr>\n",
       "      <th>mean</th>\n",
       "      <td>0.199497</td>\n",
       "      <td>18607.969799</td>\n",
       "      <td>73760.817200</td>\n",
       "      <td>101776.048741</td>\n",
       "      <td>8.922268</td>\n",
       "      <td>0.254570</td>\n",
       "      <td>0.449442</td>\n",
       "      <td>179.766275</td>\n",
       "      <td>1.186055</td>\n",
       "      <td>21.296096</td>\n",
       "      <td>33.779915</td>\n",
       "    </tr>\n",
       "    <tr>\n",
       "      <th>std</th>\n",
       "      <td>0.399656</td>\n",
       "      <td>11207.480417</td>\n",
       "      <td>44457.609458</td>\n",
       "      <td>57385.775334</td>\n",
       "      <td>7.573982</td>\n",
       "      <td>0.846047</td>\n",
       "      <td>1.127266</td>\n",
       "      <td>85.810092</td>\n",
       "      <td>1.728675</td>\n",
       "      <td>10.138933</td>\n",
       "      <td>8.601746</td>\n",
       "    </tr>\n",
       "    <tr>\n",
       "      <th>min</th>\n",
       "      <td>0.000000</td>\n",
       "      <td>1100.000000</td>\n",
       "      <td>2063.000000</td>\n",
       "      <td>8000.000000</td>\n",
       "      <td>0.000000</td>\n",
       "      <td>0.000000</td>\n",
       "      <td>0.000000</td>\n",
       "      <td>0.000000</td>\n",
       "      <td>0.000000</td>\n",
       "      <td>0.000000</td>\n",
       "      <td>0.524499</td>\n",
       "    </tr>\n",
       "    <tr>\n",
       "      <th>25%</th>\n",
       "      <td>0.000000</td>\n",
       "      <td>11100.000000</td>\n",
       "      <td>46276.000000</td>\n",
       "      <td>66075.500000</td>\n",
       "      <td>3.000000</td>\n",
       "      <td>0.000000</td>\n",
       "      <td>0.000000</td>\n",
       "      <td>115.116702</td>\n",
       "      <td>0.000000</td>\n",
       "      <td>15.000000</td>\n",
       "      <td>29.140031</td>\n",
       "    </tr>\n",
       "    <tr>\n",
       "      <th>50%</th>\n",
       "      <td>0.000000</td>\n",
       "      <td>16300.000000</td>\n",
       "      <td>65019.000000</td>\n",
       "      <td>89235.500000</td>\n",
       "      <td>7.000000</td>\n",
       "      <td>0.000000</td>\n",
       "      <td>0.000000</td>\n",
       "      <td>173.466667</td>\n",
       "      <td>1.000000</td>\n",
       "      <td>20.000000</td>\n",
       "      <td>34.818262</td>\n",
       "    </tr>\n",
       "    <tr>\n",
       "      <th>75%</th>\n",
       "      <td>0.000000</td>\n",
       "      <td>23300.000000</td>\n",
       "      <td>91488.000000</td>\n",
       "      <td>119824.250000</td>\n",
       "      <td>13.000000</td>\n",
       "      <td>0.000000</td>\n",
       "      <td>0.000000</td>\n",
       "      <td>231.562278</td>\n",
       "      <td>2.000000</td>\n",
       "      <td>26.000000</td>\n",
       "      <td>39.003141</td>\n",
       "    </tr>\n",
       "    <tr>\n",
       "      <th>max</th>\n",
       "      <td>1.000000</td>\n",
       "      <td>89900.000000</td>\n",
       "      <td>399550.000000</td>\n",
       "      <td>855909.000000</td>\n",
       "      <td>41.000000</td>\n",
       "      <td>10.000000</td>\n",
       "      <td>15.000000</td>\n",
       "      <td>1168.233561</td>\n",
       "      <td>17.000000</td>\n",
       "      <td>71.000000</td>\n",
       "      <td>203.312149</td>\n",
       "    </tr>\n",
       "  </tbody>\n",
       "</table>\n",
       "</div>"
      ],
      "text/plain": [
       "               BAD          LOAN  ...         CLNO      DEBTINC\n",
       "count  5960.000000   5960.000000  ...  5738.000000  4693.000000\n",
       "mean      0.199497  18607.969799  ...    21.296096    33.779915\n",
       "std       0.399656  11207.480417  ...    10.138933     8.601746\n",
       "min       0.000000   1100.000000  ...     0.000000     0.524499\n",
       "25%       0.000000  11100.000000  ...    15.000000    29.140031\n",
       "50%       0.000000  16300.000000  ...    20.000000    34.818262\n",
       "75%       0.000000  23300.000000  ...    26.000000    39.003141\n",
       "max       1.000000  89900.000000  ...    71.000000   203.312149\n",
       "\n",
       "[8 rows x 11 columns]"
      ]
     },
     "execution_count": 31,
     "metadata": {},
     "output_type": "execute_result"
    }
   ],
   "source": [
    "# Check summary statistics for numerical columns\n",
    "df.describe(include=[\"int64\", \"float64\"])"
   ]
  },
  {
   "cell_type": "code",
   "execution_count": null,
   "metadata": {},
   "outputs": [],
   "source": []
  }
 ],
 "metadata": {
  "kernelspec": {
   "display_name": "base",
   "language": "python",
   "name": "python3"
  },
  "language_info": {
   "codemirror_mode": {
    "name": "ipython",
    "version": 3
   },
   "file_extension": ".py",
   "mimetype": "text/x-python",
   "name": "python",
   "nbconvert_exporter": "python",
   "pygments_lexer": "ipython3",
   "version": "3.12.7"
  },
  "panel-cell-order": [
   "c8ea751a",
   "101ab9df",
   "fefc5076",
   "3cf4c1af",
   "de5bd618"
  ]
 },
 "nbformat": 4,
 "nbformat_minor": 4
}
